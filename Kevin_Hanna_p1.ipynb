{
 "cells": [
  {
   "cell_type": "markdown",
   "metadata": {},
   "source": [
    "# Project 1: Digit Classification with KNN and Naive Bayes"
   ]
  },
  {
   "cell_type": "markdown",
   "metadata": {},
   "source": [
    "In this project, you'll implement your own image recognition system for classifying digits. Read through the code and the instructions carefully and add your own code where indicated. Each problem can be addressed succinctly with the included packages -- please don't add any more. Grading will be based on writing clean, commented code, along with a few short answers.\n",
    "\n",
    "As always, you're welcome to work on the project in groups and discuss ideas on the course wall, but <b> please prepare your own write-up (with your own code). </b>\n",
    "\n",
    "If you're interested, check out these links related to digit recognition:\n",
    "\n",
    "Yann Lecun's MNIST benchmarks: http://yann.lecun.com/exdb/mnist/\n",
    "\n",
    "Stanford Streetview research and data: http://ufldl.stanford.edu/housenumbers/"
   ]
  },
  {
   "cell_type": "code",
   "execution_count": 1,
   "metadata": {},
   "outputs": [],
   "source": [
    "# This tells matplotlib not to try opening a new window for each plot.\n",
    "%matplotlib inline\n",
    "\n",
    "# Import a bunch of libraries.\n",
    "import time\n",
    "import numpy as np\n",
    "import matplotlib.pyplot as plt\n",
    "from matplotlib.ticker import MultipleLocator\n",
    "from sklearn.pipeline import Pipeline\n",
    "#from sklearn.datasets import fetch_mldata\n",
    "from sklearn.datasets import fetch_openml\n",
    "from sklearn.neighbors import KNeighborsClassifier\n",
    "from sklearn.metrics import confusion_matrix\n",
    "from sklearn.linear_model import LinearRegression\n",
    "from sklearn.naive_bayes import BernoulliNB\n",
    "from sklearn.naive_bayes import MultinomialNB\n",
    "from sklearn.naive_bayes import GaussianNB\n",
    "from sklearn.model_selection import GridSearchCV\n",
    "from sklearn.metrics import classification_report\n",
    "\n",
    "\n",
    "# Set the randomizer seed so results are the same each time.\n",
    "np.random.seed(0)"
   ]
  },
  {
   "cell_type": "markdown",
   "metadata": {},
   "source": [
    "Load the data. Notice that we are splitting the data into training, development, and test. We also have a small subset of the training data called mini_train_data and mini_train_labels that you should use in all the experiments below, unless otherwise noted."
   ]
  },
  {
   "cell_type": "code",
   "execution_count": 2,
   "metadata": {},
   "outputs": [
    {
     "name": "stdout",
     "output_type": "stream",
     "text": [
      "data shape:  (70000, 784)\n",
      "label shape: (70000,)\n"
     ]
    }
   ],
   "source": [
    "# Load the digit data either from mldata.org, or once downloaded to data_home, from disk. The data is about 53MB so this cell\n",
    "# should take a while the first time your run it.\n",
    "#mnist = fetch_mldata('MNIST original', data_home='~/datasets/mnist')\n",
    "mnist = fetch_openml('mnist_784', version=1, data_home='~/datasets/mnist')\n",
    "X, Y = mnist.data, mnist.target\n",
    "\n",
    "# Rescale grayscale values to [0,1].\n",
    "X = X / 255.0\n",
    "\n",
    "# Shuffle the input: create a random permutation of the integers between 0 and the number of data points and apply this\n",
    "# permutation to X and Y.\n",
    "# NOTE: Each time you run this cell, you'll re-shuffle the data, resulting in a different ordering.\n",
    "shuffle = np.random.permutation(np.arange(X.shape[0]))\n",
    "X, Y = X[shuffle], Y[shuffle]\n",
    "\n",
    "print ('data shape: ', X.shape)\n",
    "print ('label shape:', Y.shape)\n",
    "\n",
    "# Set some variables to hold test, dev, and training data.\n",
    "test_data, test_labels = X[61000:], Y[61000:]\n",
    "dev_data, dev_labels = X[60000:61000], Y[60000:61000]\n",
    "train_data, train_labels = X[:60000], Y[:60000]\n",
    "mini_train_data, mini_train_labels = X[:1000], Y[:1000]"
   ]
  },
  {
   "cell_type": "markdown",
   "metadata": {},
   "source": [
    "(1) Create a 10x10 grid to visualize 10 examples of each digit. Python hints:\n",
    "\n",
    "- plt.rc() for setting the colormap, for example to black and white\n",
    "- plt.subplot() for creating subplots\n",
    "- plt.imshow() for rendering a matrix\n",
    "- np.array.reshape() for reshaping a 1D feature vector into a 2D matrix (for rendering)"
   ]
  },
  {
   "cell_type": "code",
   "execution_count": 32,
   "metadata": {},
   "outputs": [
    {
     "data": {
      "image/png": "[encoded data removed]",
      "text/plain": [
       "<Figure size 432x288 with 100 Axes>"
      ]
     },
     "metadata": {},
     "output_type": "display_data"
    }
   ],
   "source": [
    "def P1(num_examples=10):\n",
    "    ### STUDENT START ###\n",
    "\n",
    "    # For each digit 0 through 9\n",
    "    for digit in range(10):\n",
    "        # get num_examples indices of digit from Y\n",
    "        X_digit = np.where( Y == str(digit))[0]\n",
    "        digit_index = X_digit[np.random.randint(len(X_digit), size=num_examples)]\n",
    "\n",
    "        # fetch, format and plot each digit\n",
    "        for example_digit_idx in range(len(digit_index)):\n",
    "            example_digit = X[digit_index][example_digit_idx]\n",
    "            \n",
    "            # Convert to 28x28 matrix\n",
    "            matrix_digit = example_digit.reshape(28,28)\n",
    "            \n",
    "            # Specify subplot location\n",
    "            axes = plt.subplot(10, num_examples, \n",
    "                               digit*num_examples + example_digit_idx+1, \n",
    "                               xticks=[], yticks=[], frame_on=False\n",
    "                              )\n",
    "            # Plot it\n",
    "            axes.imshow(matrix_digit, cmap='Greys',  interpolation='nearest')\n",
    "    \n",
    "    plt.show()\n",
    "            \n",
    "### STUDENT END ###\n",
    "\n",
    "\n",
    "P1(10)"
   ]
  },
  {
   "cell_type": "markdown",
   "metadata": {},
   "source": [
    "(2) Evaluate a K-Nearest-Neighbors model with k = [1,3,5,7,9] using the mini training set. Report accuracy on the dev set. For k=1, show precision, recall, and F1 for each label. Which is the most difficult digit?\n",
    "\n",
    "- KNeighborsClassifier() for fitting and predicting\n",
    "- classification_report() for producing precision, recall, F1 results"
   ]
  },
  {
   "cell_type": "code",
   "execution_count": 4,
   "metadata": {},
   "outputs": [
    {
     "name": "stdout",
     "output_type": "stream",
     "text": [
      "Classification Report for k=1:\n",
      "              precision    recall  f1-score   support\n",
      "\n",
      "           0       0.95      0.95      0.95       106\n",
      "           1       0.89      0.98      0.93       118\n",
      "           2       0.90      0.79      0.84       106\n",
      "           3       0.93      0.87      0.90        97\n",
      "           4       0.91      0.85      0.88        92\n",
      "           5       0.86      0.88      0.87        88\n",
      "           6       0.92      0.92      0.92       102\n",
      "           7       0.85      0.94      0.89       102\n",
      "           8       0.83      0.77      0.80        94\n",
      "           9       0.80      0.86      0.83        95\n",
      "\n",
      "   micro avg       0.88      0.88      0.88      1000\n",
      "   macro avg       0.88      0.88      0.88      1000\n",
      "weighted avg       0.89      0.88      0.88      1000\n",
      "\n",
      "The accuracy score for k = 1 was 0.884\n",
      "The accuracy score for k = 3 was 0.876\n",
      "The accuracy score for k = 5 was 0.882\n",
      "The accuracy score for k = 7 was 0.877\n",
      "The accuracy score for k = 9 was 0.875\n"
     ]
    }
   ],
   "source": [
    "def P2(k_values):\n",
    "\n",
    "    ### STUDENT START ###\n",
    "    \n",
    "    results = {}\n",
    "    for k in k_values:\n",
    "        cls = KNeighborsClassifier(n_neighbors=k)\n",
    "        cls.fit(mini_train_data, mini_train_labels)\n",
    "        \n",
    "        predictions = []\n",
    "        \n",
    "        for data, label in zip(dev_data, dev_labels):\n",
    "            prediction = cls.predict([data])[0]\n",
    "            predictions.append([prediction])\n",
    "\n",
    "        results[k] = cls.score(dev_data, dev_labels)\n",
    "        \n",
    "        if k == 1: \n",
    "            print(\"Classification Report for k=1:\\n\" + classification_report(dev_labels, predictions))\n",
    "\n",
    "    \n",
    "    for key, value in results.items():\n",
    "        print(\"The accuracy score for k = %i was %0.3f\" % (key, value))\n",
    "\n",
    "    \n",
    "### STUDENT END ###\n",
    "              \n",
    "k_values = [1, 3, 5, 7, 9]\n",
    "P2(k_values)"
   ]
  },
  {
   "cell_type": "markdown",
   "metadata": {},
   "source": [
    "ANSWER:\n",
    "\n",
    "**8 is the most difficult digit**\n",
    "\n",
    "We have 3 metrics to use to determin which digit is the \"most difficult\": precision, recall and F1 score.  I will interpret \"most difficult\" to mean the hardest to predict correctly and ignore other digits that are falsley predicted to be a specific this digit.  So this leaves me with recall as the best metric as it penalizes for false negatives and not false positives.\n",
    "\n",
    "\\begin{equation*}\n",
    "Recall = \\frac{True\\ Positive}{True\\ Positive + False\\ Negative}\n",
    "\\end{equation*}\n",
    "\n",
    "\n",
    "With k=1, the lowest recall score was 0.77, for the number 8, making it the most difficult digit.  "
   ]
  },
  {
   "cell_type": "markdown",
   "metadata": {},
   "source": [
    "(3) Using k=1, report dev set accuracy for the training set sizes below. Also, measure the amount of time needed for prediction with each training size.\n",
    "\n",
    "- time.time() gives a wall clock value you can use for timing operations"
   ]
  },
  {
   "cell_type": "code",
   "execution_count": 5,
   "metadata": {},
   "outputs": [
    {
     "name": "stdout",
     "output_type": "stream",
     "text": [
      "For training size 100, it took 0.12 seconds to predict and score\n",
      "For training size 200, it took 0.12 seconds to predict and score\n",
      "For training size 400, it took 0.12 seconds to predict and score\n",
      "For training size 800, it took 0.22 seconds to predict and score\n",
      "For training size 1600, it took 0.32 seconds to predict and score\n",
      "For training size 3200, it took 0.62 seconds to predict and score\n",
      "For training size 6400, it took 1.23 seconds to predict and score\n",
      "For training size 12800, it took 2.54 seconds to predict and score\n",
      "For training size 25000, it took 5.36 seconds to predict and score\n"
     ]
    }
   ],
   "source": [
    "def P3(train_sizes, accuracies):\n",
    "\n",
    "### STUDENT START ###\n",
    "    for size in train_sizes:\n",
    "        tmp_data, tmp_labels = X[:size], Y[:size]\n",
    "        \n",
    "        cls = KNeighborsClassifier(n_neighbors=1, n_jobs = -1)\n",
    "        cls.fit(tmp_data, tmp_labels)\n",
    "\n",
    "        start_time = time.time()\n",
    "        accuracies.append(cls.score(dev_data, dev_labels))\n",
    "        total_time = time.time() - start_time\n",
    "        print(\"For training size {}, it took {:0.2f} seconds to predict and score\".format(size, total_time))\n",
    "    \n",
    "### STUDENT END ###\n",
    "\n",
    "train_sizes = [100, 200, 400, 800, 1600, 3200, 6400, 12800, 25000]\n",
    "accuracies = []\n",
    "P3(train_sizes, accuracies)"
   ]
  },
  {
   "cell_type": "markdown",
   "metadata": {},
   "source": [
    "(4) Fit a regression model that predicts accuracy from training size. What does it predict for n=60000? What's wrong with using regression here? Can you apply a transformation that makes the predictions more reasonable?\n",
    "\n",
    "- Remember that the sklearn fit() functions take an input matrix X and output vector Y. So each input example in X is a vector, even if it contains only a single value."
   ]
  },
  {
   "cell_type": "code",
   "execution_count": 6,
   "metadata": {},
   "outputs": [
    {
     "name": "stdout",
     "output_type": "stream",
     "text": [
      "Prediction accuracy for 60,000 using the raw data is 1.2447\n",
      "Prediction accuracy for 60,000 using the natural log transform on X data is 0.9902\n"
     ]
    },
    {
     "data": {
      "image/png": "[encoded data removed]",
      "text/plain": [
       "<Figure size 720x360 with 3 Axes>"
      ]
     },
     "metadata": {
      "needs_background": "light"
     },
     "output_type": "display_data"
    }
   ],
   "source": [
    "def P4():\n",
    "\n",
    "### STUDENT START ###\n",
    "    X = np.asarray(train_sizes).reshape(-1, 1)\n",
    "    y = np.asarray(accuracies)\n",
    "    regr = LinearRegression(n_jobs=-1).fit(X, y) \n",
    "\n",
    "    loglin_X = 1/np.log(X)\n",
    "    loglin_regr = LinearRegression(n_jobs=-1).fit(loglin_X, y)\n",
    "    \n",
    "    reg_60k = regr.predict(np.array([[60000]]))\n",
    "    loglin_reg_60k = loglin_regr.predict(np.array([[1/np.log(60000)]]))\n",
    "    \n",
    "    print(\"Prediction accuracy for 60,000 using the raw data is {:0.4f}\". format(reg_60k[0]))\n",
    "    print(\"Prediction accuracy for 60,000 using the natural log transform on X data is {:0.4f}\". format(loglin_reg_60k[0]))\n",
    "    \n",
    "    fig1, (ax1, ax2, ax3) = plt.subplots(nrows=1, ncols=3, figsize=(10.0, 5.0))\n",
    "\n",
    "    ax1.plot(train_sizes, accuracies, 'rx')\n",
    "    ax1.plot(train_sizes, regr.predict(X))\n",
    "    ax1.set_title(\"Prediction Trained Without \\n Transformation\")\n",
    "    ax1.set_xlabel(\"Training Sizes\")\n",
    "    \n",
    "    ax2.plot(train_sizes, accuracies, 'rx')\n",
    "    ax2.plot(train_sizes, loglin_regr.predict(loglin_X))\n",
    "    ax2.set_title(\"Prediction Trained With \\n log Transformation\")\n",
    "    ax2.set_xlabel(\"Training Sizes\")\n",
    "\n",
    "    ax3.plot(1/np.log(train_sizes), accuracies, 'rx')\n",
    "    ax3.plot(1/np.log(train_sizes), loglin_regr.predict(loglin_X))\n",
    "    ax3.set_title(\"Prediction Trained With \\n log Transformation (linear)\")\n",
    "    ax3.set_xlabel(\"Log Training Sizes\")\n",
    "\n",
    "### STUDENT END ###\n",
    "\n",
    "\n",
    "\n",
    "P4()"
   ]
  },
  {
   "cell_type": "markdown",
   "metadata": {},
   "source": [
    "ANSWER:\n",
    "\n",
    "The predicted accuracy for n=60,000 without any transormation is **1.24**, which is above 1, and impossible probability.  Performing an inverse of the natural log transformation on the training sizes provides a prediction for n=60,000 that is more realistic: **0.9902**.  The relationship between the accuracy and the training size is non-linear and approaches 1.0 somewhere above 25,000 data points in the sample. "
   ]
  },
  {
   "cell_type": "markdown",
   "metadata": {},
   "source": [
    "Fit a 1-NN and output a confusion matrix for the dev data. Use the confusion matrix to identify the most confused pair of digits, and display a few example mistakes.\n",
    "\n",
    "- confusion_matrix() produces a confusion matrix"
   ]
  },
  {
   "cell_type": "code",
   "execution_count": 7,
   "metadata": {},
   "outputs": [
    {
     "name": "stdout",
     "output_type": "stream",
     "text": [
      "The confusion matrix:\n",
      "[[105   1   0   0   0   0   0   0   0   0]\n",
      " [  0 117   0   0   0   0   0   0   1   0]\n",
      " [  1   0 102   0   0   0   0   2   1   0]\n",
      " [  0   1   0  92   0   2   0   1   1   0]\n",
      " [  0   0   0   0  92   0   0   0   0   0]\n",
      " [  1   0   0   2   0  83   1   0   0   1]\n",
      " [  0   0   0   0   0   1 100   0   1   0]\n",
      " [  0   0   1   0   0   0   0 101   0   0]\n",
      " [  1   1   2   2   1   0   2   0  85   0]\n",
      " [  0   0   0   0   1   0   0   0   0  94]]\n",
      "\n",
      "The most confused pair are:\n",
      "3 and 5\n",
      "\n",
      "Examples of 3's mistaken for 5's and vice versa\n"
     ]
    },
    {
     "data": {
      "image/png": "[encoded data removed]",
      "text/plain": [
       "<Figure size 432x288 with 2 Axes>"
      ]
     },
     "metadata": {},
     "output_type": "display_data"
    },
    {
     "data": {
      "image/png": "[encoded data removed]",
      "text/plain": [
       "<Figure size 432x288 with 2 Axes>"
      ]
     },
     "metadata": {},
     "output_type": "display_data"
    }
   ],
   "source": [
    "def P5():\n",
    "\n",
    "### STUDENT START ###\n",
    "    # Don't need this because the dataset we're using contains each digit, but it's good practice\n",
    "    matrix_labels = ['0','1','2','3','4','5','6','7','8','9']\n",
    "    \n",
    "    X = train_data\n",
    "    y = train_labels\n",
    "    X_dev = dev_data\n",
    "    y_dev = dev_labels\n",
    "    \n",
    "    knn = KNeighborsClassifier(n_neighbors=1, n_jobs=-1)\n",
    "    knn.fit(X, y)\n",
    "    predicted = knn.predict(X_dev)\n",
    "    \n",
    "    cm = confusion_matrix(dev_labels, predicted,\n",
    "                         labels=matrix_labels)\n",
    "    \n",
    "\n",
    "    print(\"The confusion matrix:\")\n",
    "    print(cm)\n",
    "    \n",
    "    print(\"\\nThe most confused pair are:\")\n",
    "    # Adding the confusion matrix to its own transpose ignoring the diagonal\n",
    "    # reveals the most confused pair with argmax.\n",
    "    cm_pairs = np.triu(cm, 1) + np.triu(cm.transpose(), 1)\n",
    "    top_confused_pair_idx = np.unravel_index(cm_pairs.argmax(), cm_pairs.shape)\n",
    "    top_confused_pair = (matrix_labels[top_confused_pair_idx[0]], matrix_labels[top_confused_pair_idx[1]])\n",
    "    print(\"%s and %s\" % (top_confused_pair))\n",
    "    \n",
    "    # Show examples of most confused pair.\n",
    "    swaped = dict()\n",
    "    swaped[top_confused_pair[0]] = (X_dev[np.logical_and(y_dev == top_confused_pair[0],\n",
    "                           predicted == top_confused_pair[1])])\n",
    "                 \n",
    "    swaped[top_confused_pair[1]] = (X_dev[np.logical_and(y_dev == top_confused_pair[1],\n",
    "                           predicted == top_confused_pair[0])])\n",
    "                 \n",
    "    \n",
    "    print(\"\\nExamples of %s's mistaken for %s's and vice versa\" % (top_confused_pair))\n",
    "    for key, digits in swaped.items():\n",
    "        plt_idx = 0\n",
    "        for digit in digits:\n",
    "            plt_idx += 1\n",
    "            matrix_digit = digit.reshape(28,28)\n",
    "            axes = plt.subplot(1, len(digits) , plt_idx, xticks=[], yticks=[], frame_on=False)\n",
    "            axes.imshow(matrix_digit, cmap='Greys',  interpolation='nearest')\n",
    "        plt.show()\n",
    "\n",
    "        \n",
    "\n",
    "### STUDENT END ###\n",
    "\n",
    "P5()"
   ]
  },
  {
   "cell_type": "markdown",
   "metadata": {},
   "source": [
    "(6) A common image processing technique is to smooth an image by blurring. The idea is that the value of a particular pixel is estimated as the weighted combination of the original value and the values around it. Typically, the blurring is Gaussian -- that is, the weight of a pixel's influence is determined by a Gaussian function over the distance to the relevant pixel.\n",
    "\n",
    "Implement a simplified Gaussian blur by just using the 8 neighboring pixels: the smoothed value of a pixel is a weighted combination of the original value and the 8 neighboring values. Try applying your blur filter in 3 ways:\n",
    "- preprocess the training data but not the dev data\n",
    "- preprocess the dev data but not the training data\n",
    "- preprocess both training and dev data\n",
    "\n",
    "Note that there are Guassian blur filters available, for example in scipy.ndimage.filters. You're welcome to experiment with those, but you are likely to get the best results with the simplified version I described above."
   ]
  },
  {
   "cell_type": "code",
   "execution_count": 57,
   "metadata": {},
   "outputs": [
    {
     "name": "stdout",
     "output_type": "stream",
     "text": [
      "Blurring took 2.0 seconds\n",
      "The score using original training original dev data scored: 0.971 (37.8s)\n",
      "The score using blurred training original dev data scored: 0.974 (25.5s)\n",
      "The score using original training blurred dev data scored: 0.974 (38.3s)\n",
      "The score using blurred training blurred dev data scored: 0.978 (22.8s)\n"
     ]
    }
   ],
   "source": [
    "### STUDENT START ###\n",
    "# from scipy.ndimage.filters import gaussian_filter\n",
    "from scipy.ndimage.filters import convolve\n",
    "\n",
    "\n",
    "def blur(X_data):\n",
    "    #TODO Try an actual normal distribution\n",
    "    kernel = np.array([[1,2,1],[2,4,2],[1,2,1]])\n",
    "    blurred_matrix = np.zeros_like(X_data)\n",
    "    \n",
    "\n",
    "    for i, new_digit in enumerate(X_data):\n",
    "        digit = new_digit.reshape((28, 28))\n",
    "        digit_blur = convolve(digit, kernel/kernel.sum())\n",
    "        blurred_matrix[i] = digit_blur.ravel()\n",
    "    \n",
    "    return blurred_matrix\n",
    "\n",
    "\n",
    "def P6():\n",
    "    X_train = train_data\n",
    "    y_train = train_labels\n",
    "    X_dev = dev_data\n",
    "    y_dev = dev_labels\n",
    "    \n",
    "    blur_start_time = time.time()\n",
    "    X_train_blur = blur(X_train)\n",
    "    X_dev_blur = blur(X_dev)\n",
    "    print(\"Blurring took {:0.1f} seconds\".format(time.time() - blur_start_time))\n",
    "        \n",
    "    models = dict()\n",
    "    scores = dict()\n",
    "    times = dict()\n",
    "    \n",
    "    models['original training original dev'] = {'X': X_train, 'X_dev': X_dev}\n",
    "    models['blurred training original dev'] = {'X': X_train_blur, 'X_dev': X_dev}\n",
    "    models['original training blurred dev'] = {'X': X_train, 'X_dev': X_dev_blur}\n",
    "    models['blurred training blurred dev'] = {'X': X_train_blur, 'X_dev': X_dev_blur}\n",
    "\n",
    "    for name, model in models.items():\n",
    "        loop_start_time = time.time()\n",
    "        knn = KNeighborsClassifier(n_neighbors=1, n_jobs=-1)\n",
    "        knn.fit(model['X'], y_train)\n",
    "        score = knn.score(model['X_dev'], y_dev)\n",
    "        scores[name] = score\n",
    "        times[name] = time.time() - loop_start_time        \n",
    "\n",
    "    for name, score in scores.items():\n",
    "        print(\"The score using {} data scored: {:0.3f} ({:0.1f}s)\".format(name, score, times[name]))\n",
    "\n",
    "### STUDENT END ###\n",
    "\n",
    "P6()"
   ]
  },
  {
   "cell_type": "markdown",
   "metadata": {},
   "source": [
    "ANSWER: The simple gausian filter made a slight improvement over the non-blurred digits.  **The score increased 0.007, from 0.971 to 0.978**. I suspect that since we're increasing the line thickness, we're creating more pixels that have non-zero probability."
   ]
  },
  {
   "cell_type": "markdown",
   "metadata": {},
   "source": [
    "(7) Fit a Naive Bayes classifier and report accuracy on the dev data. Remember that Naive Bayes estimates P(feature|label). While sklearn can handle real-valued features, let's start by mapping the pixel values to either 0 or 1. You can do this as a preprocessing step, or with the binarize argument. With binary-valued features, you can use BernoulliNB. Next try mapping the pixel values to 0, 1, or 2, representing white, grey, or black. This mapping requires MultinomialNB. Does the multi-class version improve the results? Why or why not?"
   ]
  },
  {
   "cell_type": "code",
   "execution_count": 58,
   "metadata": {},
   "outputs": [
    {
     "name": "stdout",
     "output_type": "stream",
     "text": [
      "The score for the Bernoulli Naive Bayes classifier using Binarized data was 0.828\n",
      "The score for the Multinomial Naive Bayes classifier using values 0, 1 or 2 was 0.824\n"
     ]
    }
   ],
   "source": [
    "### STUDENT START ###\n",
    "\n",
    "def P7():\n",
    "    X = train_data\n",
    "    y = train_labels\n",
    "    \n",
    "    X_dev = dev_data\n",
    "    y_dev = dev_labels\n",
    "    \n",
    "    X_tri = np.zeros(X.shape)\n",
    "    X_dev_tri = np.zeros(dev_data.shape)\n",
    "    X_dev_bin = np.zeros(dev_data.shape)\n",
    "\n",
    "    \n",
    "    X_tri[(X >= 0) & (X <=1/3)] = 0\n",
    "    X_tri[(X > 1/3) & (X <=2/3)] = 1\n",
    "    X_tri[(X > 2/3)] = 2\n",
    "\n",
    "    X_dev_tri[(X_dev >= 0) & (X_dev <=1/3)] = 0\n",
    "    X_dev_tri[(X_dev > 1/3) & (X_dev <=2/3)] = 1\n",
    "    X_dev_tri[(X_dev > 2/3)] = 2\n",
    "\n",
    "    X_dev_bin[X_dev > 0] = 1\n",
    "\n",
    "    \n",
    "    bin_cls = BernoulliNB(binarize=0)\n",
    "    bin_cls.fit(X, y)\n",
    "    \n",
    "    tri_cls = MultinomialNB()\n",
    "    tri_cls.fit(X_tri, y)\n",
    "    \n",
    "    bin_score = bin_cls.score(X_dev_bin, y_dev)\n",
    "    tri_score = tri_cls.score(X_dev_tri, y_dev)\n",
    "    \n",
    "    print(\"The score for the Bernoulli Naive Bayes classifier using Binarized data was {:0.3f}\".format(bin_score))\n",
    "    print(\"The score for the Multinomial Naive Bayes classifier using values 0, 1 or 2 was {:0.3f}\".format(tri_score))\n",
    "    \n",
    "    \n",
    "### STUDENT END ###\n",
    "\n",
    "P7()"
   ]
  },
  {
   "cell_type": "markdown",
   "metadata": {},
   "source": [
    "ANSWER: The binarized classifier worked slightly better than the multinomial, with a difference of only 0.004.  This could easily fall inside the margin of error.  I expect the binarized version to perform better however, due to the grey areas in these digits are part of the line, and there should not be a penalty for how light or dark they are.  This is similar to the blur method above, we're penalizing for not being dark enough needlessly removing some of our confidence. "
   ]
  },
  {
   "cell_type": "markdown",
   "metadata": {},
   "source": [
    "(8) Use GridSearchCV to perform a search over values of alpha (the Laplace smoothing parameter) in a Bernoulli NB model. What is the best value for alpha? What is the accuracy when alpha=0? Is this what you'd expect?\n",
    "\n",
    "- Note that GridSearchCV partitions the training data so the results will be a bit different than if you used the dev data for evaluation."
   ]
  },
  {
   "cell_type": "code",
   "execution_count": 59,
   "metadata": {},
   "outputs": [],
   "source": [
    "import warnings\n",
    "warnings.filterwarnings('ignore')\n",
    "\n",
    "def P8(alphas):\n",
    "\n",
    "### STUDENT START ###\n",
    "    X = train_data\n",
    "    y = train_labels\n",
    "    \n",
    "    X_bin = np.zeros(X.shape)\n",
    "    \n",
    "    for i in range(len(X)):\n",
    "        X_bin[i] = [int(x>0) for x in X[i]]\n",
    "\n",
    "    bin_cls = BernoulliNB()\n",
    "    clf = GridSearchCV(bin_cls, alphas, n_jobs=-1)\n",
    "    clf.fit(X_bin, y)\n",
    "    \n",
    "    return clf\n",
    "\n",
    "### STUDENT END ###\n",
    "\n",
    "alphas = {'alpha': [0.0, 0.0001, 0.001, 0.01, 0.1, 0.5, 1.0, 2.0, 10.0]}\n",
    "nb = P8(alphas)\n",
    "\n",
    "warnings.filterwarnings('default')"
   ]
  },
  {
   "cell_type": "code",
   "execution_count": 60,
   "metadata": {},
   "outputs": [
    {
     "name": "stdout",
     "output_type": "stream",
     "text": [
      "{'alpha': 0.0}\n",
      "Using alpha 0.0000 the accuracy score was 0.83337\n",
      "Using alpha 0.0001 the accuracy score was 0.83327\n",
      "Using alpha 0.0010 the accuracy score was 0.83310\n",
      "Using alpha 0.0100 the accuracy score was 0.83298\n",
      "Using alpha 0.1000 the accuracy score was 0.83277\n",
      "Using alpha 0.5000 the accuracy score was 0.83257\n",
      "Using alpha 1.0000 the accuracy score was 0.83230\n",
      "Using alpha 2.0000 the accuracy score was 0.83193\n",
      "Using alpha 10.0000 the accuracy score was 0.83020\n"
     ]
    }
   ],
   "source": [
    "print (nb.best_params_)\n",
    "for param, score in zip(alphas['alpha'], nb.cv_results_['mean_test_score']):\n",
    "    print(\"Using alpha {:0.4f} the accuracy score was {:0.5f}\".format(param, score))\n",
    "\n"
   ]
  },
  {
   "cell_type": "markdown",
   "metadata": {},
   "source": [
    "ANSWER: The Bernoulli classifier worked best with alpha set to 0.0.  We have samples of each digit, so we were not at risk of having prior expectation of 0 for any class.  Additionally, Laplace smoothing flattens the probablilty distribution towards a uniform distribution, which means that the parameters have decreasing predictive power as alpha increases past a specific point.  Since we're using 60,000 samples, laplace offers little of the benefit smaller datasets would receive.  No smoothing working best is expected as we're otherwise correcting for problems we don't have and still suffering the negative side effects. "
   ]
  },
  {
   "cell_type": "markdown",
   "metadata": {},
   "source": [
    "(9) Try training a model using GaussianNB, which is intended for real-valued features, and evaluate on the dev data. You'll notice that it doesn't work so well. Try to diagnose the problem. You should be able to find a simple fix that returns the accuracy to around the same rate as BernoulliNB. Explain your solution.\n",
    "\n",
    "Hint: examine the parameters estimated by the fit() method, theta\\_ and sigma\\_."
   ]
  },
  {
   "cell_type": "code",
   "execution_count": 12,
   "metadata": {},
   "outputs": [
    {
     "name": "stdout",
     "output_type": "stream",
     "text": [
      "Model score before any changes:0.586.\n",
      "In the training set, 80.9% of the pixels are 0.\n",
      "Model score after adding some noise:0.814.\n"
     ]
    }
   ],
   "source": [
    "def P9():\n",
    "\n",
    "### STUDENT END ###\n",
    "    X = train_data\n",
    "    y = train_labels\n",
    "    \n",
    "    X_dev = dev_data\n",
    "    y_dev = dev_labels\n",
    "    before_cls = GaussianNB().fit(X, y)\n",
    "    \n",
    "    count, values = np.unique(X, return_counts=True)\n",
    "    before_value_count = dict(zip(count, values))\n",
    "    \n",
    "    X_noisy = [digit + np.random.normal(0, 0.1, digit.shape) for digit in X]\n",
    "    noisy_cls = GaussianNB().fit(X_noisy, y)\n",
    "\n",
    "    \n",
    "    print(\"Model score before any changes:{:0.3f}.\".format(before_cls.score(X_dev, y_dev)))\n",
    "    print(\"In the training set, {:0.1f}% of the pixels are 0.\".format(before_value_count[0]/sum(before_value_count.values())*100))\n",
    "    print(\"Model score after adding some noise:{:0.3f}.\".format(noisy_cls.score(X_dev, y_dev)))\n",
    "        \n",
    "    \n",
    "### STUDENT END ###\n",
    "\n",
    "gnb = P9()"
   ]
  },
  {
   "cell_type": "markdown",
   "metadata": {},
   "source": [
    "ANSWER:  Naive Bayes has a assumption of independence. This assumption will be false in the case of any type of characters.  Contiguous lines and whitespace will naturally be strongly correlated, and 81% of the pixels in our data are whitespace.  Removing the correlation by simply adding random noise makes our features a little more independent, increassing the accuracy of our model from 0.59 to 0.81. "
   ]
  },
  {
   "cell_type": "markdown",
   "metadata": {},
   "source": [
    "(10) Because Naive Bayes is a generative model, we can use the trained model to generate digits. Train a BernoulliNB model and then generate a 10x20 grid with 20 examples of each digit. Because you're using a Bernoulli model, each pixel output will be either 0 or 1. How do the generated digits compare to the training digits?\n",
    "\n",
    "- You can use np.random.rand() to generate random numbers from a uniform distribution\n",
    "- The estimated probability of each pixel is stored in feature\\_log\\_prob\\_. You'll need to use np.exp() to convert a log probability back to a probability."
   ]
  },
  {
   "cell_type": "code",
   "execution_count": 13,
   "metadata": {},
   "outputs": [
    {
     "data": {
      "image/png": "[encoded data removed]",
      "text/plain": [
       "<Figure size 432x288 with 200 Axes>"
      ]
     },
     "metadata": {},
     "output_type": "display_data"
    }
   ],
   "source": [
    "def P10(num_examples):\n",
    "\n",
    "### STUDENT START ###\n",
    "\n",
    "    X = train_data\n",
    "    y = train_labels\n",
    "    \n",
    "    cls = BernoulliNB(alpha=1.0).fit(X, y)\n",
    "    \n",
    "    for i in range(10):\n",
    "        digit_class = np.exp(cls.feature_log_prob_[i])\n",
    "        for j in range(num_examples):\n",
    "            rand_digit = np.random.rand(28,28)\n",
    "            matrix_digit_class = digit_class.reshape(28,28)\n",
    "#             gen_digit = (matrix_digit_class + rand_digit)/2 > 0.5\n",
    "            gen_digit = (matrix_digit_class > rand_digit)\n",
    "            axes = plt.subplot(10, num_examples, i*num_examples+j+1, xticks=[], yticks=[], frame_on=False)\n",
    "            axes.imshow(gen_digit, cmap='Greys',  interpolation='nearest')\n",
    "            \n",
    "### STUDENT END ###\n",
    "\n",
    "P10(20)"
   ]
  },
  {
   "cell_type": "markdown",
   "metadata": {},
   "source": [
    "ANSWER:"
   ]
  },
  {
   "cell_type": "markdown",
   "metadata": {},
   "source": [
    "(11) Remember that a strongly calibrated classifier is rougly 90% accurate when the posterior probability of the predicted class is 0.9. A weakly calibrated classifier is more accurate when the posterior is 90% than when it is 80%. A poorly calibrated classifier has no positive correlation between posterior and accuracy.\n",
    "\n",
    "Train a BernoulliNB model with a reasonable alpha value. For each posterior bucket (think of a bin in a histogram), you want to estimate the classifier's accuracy. So for each prediction, find the bucket the maximum posterior belongs to and update the \"correct\" and \"total\" counters.\n",
    "\n",
    "How would you characterize the calibration for the Naive Bayes model?"
   ]
  },
  {
   "cell_type": "code",
   "execution_count": 14,
   "metadata": {},
   "outputs": [
    {
     "name": "stdout",
     "output_type": "stream",
     "text": [
      "The sum of the deltas between p(pred) and accuracy is 1.056\n",
      "[[1.         0.86013733]\n",
      " [0.86013733 1.        ]]\n",
      "p(pred) <= 0.5000000000000    total =   0    accuracy = 0.000\n",
      "p(pred) <= 0.9000000000000    total =  34    accuracy = 0.412\n",
      "p(pred) <= 0.9990000000000    total =  64    accuracy = 0.500\n",
      "p(pred) <= 0.9999900000000    total =  57    accuracy = 0.579\n",
      "p(pred) <= 0.9999999000000    total =  43    accuracy = 0.605\n",
      "p(pred) <= 0.9999999990000    total =  50    accuracy = 0.660\n",
      "p(pred) <= 0.9999999999900    total =  50    accuracy = 0.780\n",
      "p(pred) <= 0.9999999999999    total =  65    accuracy = 0.738\n",
      "p(pred) <= 1.0000000000000    total = 637    accuracy = 0.950\n"
     ]
    }
   ],
   "source": [
    "def P11(buckets, correct, total):\n",
    "\n",
    "    \n",
    "### STUDENT START ###\n",
    "    X = train_data\n",
    "    y = train_labels\n",
    "    \n",
    "    X_dev = dev_data\n",
    "    y_dev = dev_labels\n",
    "    \n",
    "    cls = BernoulliNB(alpha=1e-10).fit(X, y)\n",
    "    prediction_probs = cls.predict_proba(X_dev)\n",
    "    \n",
    "    for prediction, y_true in zip(prediction_probs, y_dev):\n",
    "        predicted_digit = np.argmax(prediction)\n",
    "        digit_probability = prediction[predicted_digit]\n",
    "        \n",
    "        for i in range(len(buckets)):\n",
    "            if digit_probability <= buckets[i]:\n",
    "                total[i] += 1\n",
    "                if str(predicted_digit) == y_true:\n",
    "                    correct[i] += 1\n",
    "                break # We found our bucket, move on. \n",
    "    \n",
    "    tot_delta = 0\n",
    "    accuracies = [0 for i in buckets]\n",
    "\n",
    "    for i in range(len(buckets)):\n",
    "       accuracy = 0.0\n",
    "       delta = 0.0\n",
    "       if (total[i] > 0):\n",
    "         accuracy = correct[i] / total[i]\n",
    "         accuracies[i] = accuracy\n",
    "         delta = (buckets[i]-accuracy)**2\n",
    "         tot_delta += delta\n",
    "\n",
    "    print(\"The sum of the deltas between p(pred) and accuracy is {:0.3f}\".format(tot_delta)) \n",
    "    print(np.corrcoef(buckets, accuracies))\n",
    "                \n",
    "### STUDENT END ###\n",
    "\n",
    "buckets = [0.5, 0.9, 0.999, 0.99999, 0.9999999, 0.999999999, 0.99999999999, 0.9999999999999, 1.0]\n",
    "correct = [0 for i in buckets]\n",
    "total = [0 for i in buckets]\n",
    "\n",
    "P11(buckets, correct, total)\n",
    "\n",
    "for i in range(len(buckets)):\n",
    "   accuracy = 0.0\n",
    "   delta = 0.0\n",
    "   if (total[i] > 0): accuracy = correct[i] / total[i]\n",
    "   print('p(pred) <= %.13f    total = %3d    accuracy = %.3f' %(buckets[i], total[i], accuracy))"
   ]
  },
  {
   "cell_type": "markdown",
   "metadata": {},
   "source": [
    "ANSWER: The classifier is **strongly calibrated**, though likely on the low side of that.  The mean squared error is 1.056 and the correlation in the buckets is 0.86, and because of uneven distribution through the buckets the correlation is likely higher than what's being reported.  \n",
    "\n",
    "My approach was **non-parametric isotonic regression**.  Finding the value for alpha which minimizes the sum of deltas between the posterior probability and the accuracy done in Question 8 and calculating the mean squared error of the accuracy and buckets in this question for various values for alpha and binarize on the BernoillyNB classifer."
   ]
  },
  {
   "cell_type": "markdown",
   "metadata": {},
   "source": [
    "(12) EXTRA CREDIT\n",
    "\n",
    "Try designing extra features to see if you can improve the performance of Naive Bayes on the dev set. Here are a few ideas to get you started:\n",
    "- Try summing the pixel values in each row and each column.\n",
    "- Try counting the number of enclosed regions; 8 usually has 2 enclosed regions, 9 usually has 1, and 7 usually has 0.\n",
    "\n",
    "Make sure you comment your code well!"
   ]
  },
  {
   "cell_type": "code",
   "execution_count": 172,
   "metadata": {},
   "outputs": [
    {
     "name": "stdout",
     "output_type": "stream",
     "text": [
      "0.702\n",
      "0.836\n"
     ]
    }
   ],
   "source": [
    "def transform(X_data):\n",
    "    transformed_matrix = np.zeros((len(X_data), (28*28)+3))\n",
    "\n",
    "    for i, new_digit in enumerate(X_data):\n",
    "        digit = new_digit.reshape((28, 28))\n",
    "\n",
    "        # Add a feature that represents its horizontal symmetry\n",
    "        horz_symmetry = digit[0:14].sum()/digit[15:28].sum()\n",
    "        \n",
    "        # Add a feature that represents its vertical symmetry\n",
    "        half_l = sum([x[:14].sum() for x in digit])\n",
    "        half_r = sum([x[15:28].sum() for x in digit])\n",
    "        vert_symmetry = half_l/half_r\n",
    "        \n",
    "        # Add a feature that represents its triangular symmetry\n",
    "        tri_symmetry = np.triu(digit,1).sum()/np.tril(digit,1).sum()\n",
    "        \n",
    "        # Combine it all together again\n",
    "        trans_digit = digit.ravel().tolist()\n",
    "        trans_digit.append(horz_symmetry)\n",
    "        trans_digit.append(vert_symmetry)\n",
    "        trans_digit.append(tri_symmetry)\n",
    "        transformed_matrix[i] = np.array(trans_digit)\n",
    "    \n",
    "    return transformed_matrix\n",
    "\n",
    "def P12():\n",
    "\n",
    "### STUDENT START ###\n",
    "    X = transform(train_data)\n",
    "    y = train_labels\n",
    "    \n",
    "    X_dev = transform(dev_data)\n",
    "    y_dev = dev_labels\n",
    "\n",
    "    gaus_cls = GaussianNB(var_smoothing=0.7).fit(X,y)\n",
    "    bern_cls = BernoulliNB(alpha=1e-10, binarize=0.7).fit(X,y)\n",
    "    \n",
    "    print(gaus_cls.score(X_dev, y_dev))\n",
    "    print(bern_cls.score(X_dev, y_dev))\n",
    "\n",
    "### STUDENT END ###\n",
    "\n",
    "P12()"
   ]
  }
 ],
 "metadata": {
  "kernelspec": {
   "display_name": "Python 3",
   "language": "python",
   "name": "python3"
  },
  "language_info": {
   "codemirror_mode": {
    "name": "ipython",
    "version": 3
   },
   "file_extension": ".py",
   "mimetype": "text/x-python",
   "name": "python",
   "nbconvert_exporter": "python",
   "pygments_lexer": "ipython3",
   "version": "3.7.1"
  }
 },
 "nbformat": 4,
 "nbformat_minor": 1
}
